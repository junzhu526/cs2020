{
  "nbformat": 4,
  "nbformat_minor": 0,
  "metadata": {
    "colab": {
      "name": "一加到一百.ipynb",
      "provenance": [],
      "collapsed_sections": [],
      "authorship_tag": "ABX9TyPhbDLf7Mk8zXpDWZmgvdCd",
      "include_colab_link": true
    },
    "kernelspec": {
      "name": "python3",
      "display_name": "Python 3"
    }
  },
  "cells": [
    {
      "cell_type": "markdown",
      "metadata": {
        "id": "view-in-github",
        "colab_type": "text"
      },
      "source": [
        "<a href=\"https://colab.research.google.com/github/junzhu526/cs2020/blob/main/%E4%B8%80%E5%8A%A0%E5%88%B0%E4%B8%80%E7%99%BE.ipynb\" target=\"_parent\"><img src=\"https://colab.research.google.com/assets/colab-badge.svg\" alt=\"Open In Colab\"/></a>"
      ]
    },
    {
      "cell_type": "code",
      "metadata": {
        "colab": {
          "base_uri": "https://localhost:8080/"
        },
        "id": "lLwhhmlqCg7q",
        "outputId": "3b1864de-1af4-4253-9c7a-86be734726e6"
      },
      "source": [
        "def sum(x, y):\n",
        "    return x + y\n",
        "from functools import reduce\n",
        "print(reduce(sum, range(1,101)))\n"
      ],
      "execution_count": 1,
      "outputs": [
        {
          "output_type": "stream",
          "text": [
            "5050\n"
          ],
          "name": "stdout"
        }
      ]
    }
  ]
}